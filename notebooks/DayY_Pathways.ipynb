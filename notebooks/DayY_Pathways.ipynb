{
 "cells": [
  {
   "cell_type": "markdown",
   "metadata": {},
   "source": [
    "## Task 1: KEGG and gene id mapping"
   ]
  },
  {
   "cell_type": "markdown",
   "metadata": {},
   "source": [
    "Familiarize yourself with the KEGG Rest interface and how to access it with Biopyhton:\n",
    "\n",
    "http://www.genome.jp/kegg/rest/keggapi.html\n",
    "\n",
    "http://nbviewer.jupyter.org/github/widdowquinn/notebooks/blob/master/Biopython_KGML_intro.ipynb"
   ]
  },
  {
   "cell_type": "code",
   "execution_count": 1,
   "metadata": {
    "collapsed": false
   },
   "outputs": [],
   "source": [
    "import sys\n",
    "import os\n",
    "import numpy as np\n",
    "import matplotlib.pyplot as plt\n",
    "import matplotlib.mlab as mlab\n",
    "import pandas as pd\n",
    "import math\n",
    "import seaborn as sns\n",
    "import urllib2\n",
    "import random as rd\n",
    "import Bio\n",
    "import re\n",
    "from Bio.KEGG.REST import *\n",
    "from Bio.KEGG.KGML import KGML_parser\n",
    "from scipy.stats import hypergeom"
   ]
  },
  {
   "cell_type": "code",
   "execution_count": 2,
   "metadata": {
    "collapsed": true
   },
   "outputs": [],
   "source": [
    "# preparation for pathway drawing\n",
    "from Bio import SeqIO\n",
    "from Bio.KEGG.REST import *\n",
    "from Bio.KEGG.KGML import KGML_parser\n",
    "from Bio.Graphics.KGML_vis import KGMLCanvas\n",
    "from Bio.Graphics.ColorSpiral import ColorSpiral\n",
    "\n",
    "from IPython.display import Image, HTML\n",
    "\n",
    "import random\n",
    "\n",
    "# A bit of code that will help us display the PDF output\n",
    "def PDF(filename):\n",
    "    return HTML('<iframe src=%s width=900 height=500></iframe>' % filename)\n",
    "\n",
    "# A bit of helper code to shorten long text\n",
    "def head(text, lines=10):\n",
    "    \"\"\" Print the first lines lines of the passed text.\n",
    "    \"\"\"\n",
    "    print '\\n'.join(text.split('\\n')[:lines] + ['[...]'])\n",
    "\n"
   ]
  },
  {
   "cell_type": "code",
   "execution_count": 3,
   "metadata": {
    "collapsed": true
   },
   "outputs": [],
   "source": [
    "% matplotlib inline"
   ]
  },
  {
   "cell_type": "code",
   "execution_count": 4,
   "metadata": {
    "collapsed": true
   },
   "outputs": [],
   "source": [
    "!mkdir -p DayY_InOutput\n"
   ]
  },
  {
   "cell_type": "markdown",
   "metadata": {},
   "source": [
    "### Subtask 1.1 Extract gene lists for all (mouse) KEGG pathways and store them in a suitable Python data structure"
   ]
  },
  {
   "cell_type": "code",
   "execution_count": 5,
   "metadata": {
    "collapsed": false
   },
   "outputs": [],
   "source": [
    "# get all mus musculus pathways from kegg\n",
    "pw = kegg_list(\"pathway\",\"mmu\").read()"
   ]
  },
  {
   "cell_type": "code",
   "execution_count": 6,
   "metadata": {
    "collapsed": false
   },
   "outputs": [],
   "source": [
    "mouse_pathway_kegg = pd.DataFrame([x.replace(\":\",\"\\t\",1).split(\"\\t\") for x in pw.split(\"\\n\")],\n",
    "                                columns=[\"Type\",\"ID\",\"Description\"])"
   ]
  },
  {
   "cell_type": "code",
   "execution_count": 7,
   "metadata": {
    "collapsed": false,
    "scrolled": true
   },
   "outputs": [],
   "source": [
    "# set index\n",
    "mouse_pathway_kegg.set_index(\"ID\",inplace=True,drop=False)"
   ]
  },
  {
   "cell_type": "code",
   "execution_count": 8,
   "metadata": {
    "collapsed": false
   },
   "outputs": [],
   "source": [
    "# extract genes from pathways\n",
    "all_genes = {}\n",
    "for pathway in mouse_pathway_kegg.ID[:-1]:\n",
    "    #print pathway\n",
    "    pw = kegg_get(pathway).read()\n",
    "    GENES = []\n",
    "    Gene = False\n",
    "    for line in pw.split(\"\\n\"):\n",
    "        if line.startswith(\"GENE\"):\n",
    "            Gene = True\n",
    "        if line.startswith(\"COMPOUND\"):\n",
    "            Gene = False\n",
    "        if Gene:\n",
    "            GENES.append(line)\n",
    "    all_genes[pathway] = ([re.split(r'\\s{1,}', g)[2].replace(\";\",\"\") \n",
    "                      for g in GENES if len(re.split(r'\\s{1,}', g))>2])"
   ]
  },
  {
   "cell_type": "code",
   "execution_count": 9,
   "metadata": {
    "collapsed": false,
    "scrolled": false
   },
   "outputs": [],
   "source": [
    "# merge genes into one data frame with pathway as ID\n",
    "all_genes_joined = {}\n",
    "for key in all_genes.keys():\n",
    "    all_genes_joined[key] = \",\\t \".join(all_genes[key])\n",
    "all_genes_df = pd.DataFrame.from_dict(all_genes_joined,orient=\"index\")\n",
    "all_genes_df.columns = [\"Genes\"]\n",
    "# sort data frame\n",
    "all_genes_df.sort_index(inplace=True)"
   ]
  },
  {
   "cell_type": "code",
   "execution_count": 10,
   "metadata": {
    "collapsed": false
   },
   "outputs": [],
   "source": [
    "# append genes to kegg pathway data frame\n",
    "mouse_pathway_kegg_genes = pd.concat([mouse_pathway_kegg,all_genes_df],axis=1,join=\"outer\")\n",
    "mouse_pathway_kegg_genes.drop(\"Type\",axis=1,inplace=True)\n",
    "mouse_pathway_kegg_genes.drop(mouse_pathway_kegg_genes.ix[0],inplace=True)"
   ]
  },
  {
   "cell_type": "code",
   "execution_count": 11,
   "metadata": {
    "collapsed": false,
    "scrolled": true
   },
   "outputs": [
    {
     "data": {
      "text/html": [
       "<div>\n",
       "<table border=\"1\" class=\"dataframe\">\n",
       "  <thead>\n",
       "    <tr style=\"text-align: right;\">\n",
       "      <th></th>\n",
       "      <th>ID</th>\n",
       "      <th>Description</th>\n",
       "      <th>Genes</th>\n",
       "    </tr>\n",
       "  </thead>\n",
       "  <tbody>\n",
       "    <tr>\n",
       "      <th>mmu00010</th>\n",
       "      <td>mmu00010</td>\n",
       "      <td>Glycolysis / Gluconeogenesis - Mus musculus (m...</td>\n",
       "      <td>Hk2,\\t Hk3,\\t Hk1,\\t Hkdc1,\\t Gck,\\t Gpi1,\\t P...</td>\n",
       "    </tr>\n",
       "    <tr>\n",
       "      <th>mmu00020</th>\n",
       "      <td>mmu00020</td>\n",
       "      <td>Citrate cycle (TCA cycle) - Mus musculus (mouse)</td>\n",
       "      <td>Cs,\\t Csl,\\t Acly,\\t Aco2,\\t Aco1,\\t Idh1,\\t I...</td>\n",
       "    </tr>\n",
       "    <tr>\n",
       "      <th>mmu00030</th>\n",
       "      <td>mmu00030</td>\n",
       "      <td>Pentose phosphate pathway - Mus musculus (mouse)</td>\n",
       "      <td>Gpi1,\\t G6pd2,\\t G6pdx,\\t Pgls,\\t H6pd,\\t Pgd,...</td>\n",
       "    </tr>\n",
       "    <tr>\n",
       "      <th>mmu00040</th>\n",
       "      <td>mmu00040</td>\n",
       "      <td>Pentose and glucuronate interconversions - Mus...</td>\n",
       "      <td>Gusb,\\t Kl,\\t Ugt2b5,\\t Ugt1a2,\\t Ugt1a6a,\\t U...</td>\n",
       "    </tr>\n",
       "    <tr>\n",
       "      <th>mmu00051</th>\n",
       "      <td>mmu00051</td>\n",
       "      <td>Fructose and mannose metabolism - Mus musculus...</td>\n",
       "      <td>Mpi,\\t Pmm2,\\t Pmm1,\\t Gmppb,\\t Gmppa,\\t Gmds,...</td>\n",
       "    </tr>\n",
       "  </tbody>\n",
       "</table>\n",
       "</div>"
      ],
      "text/plain": [
       "                ID                                        Description  \\\n",
       "mmu00010  mmu00010  Glycolysis / Gluconeogenesis - Mus musculus (m...   \n",
       "mmu00020  mmu00020   Citrate cycle (TCA cycle) - Mus musculus (mouse)   \n",
       "mmu00030  mmu00030   Pentose phosphate pathway - Mus musculus (mouse)   \n",
       "mmu00040  mmu00040  Pentose and glucuronate interconversions - Mus...   \n",
       "mmu00051  mmu00051  Fructose and mannose metabolism - Mus musculus...   \n",
       "\n",
       "                                                      Genes  \n",
       "mmu00010  Hk2,\\t Hk3,\\t Hk1,\\t Hkdc1,\\t Gck,\\t Gpi1,\\t P...  \n",
       "mmu00020  Cs,\\t Csl,\\t Acly,\\t Aco2,\\t Aco1,\\t Idh1,\\t I...  \n",
       "mmu00030  Gpi1,\\t G6pd2,\\t G6pdx,\\t Pgls,\\t H6pd,\\t Pgd,...  \n",
       "mmu00040  Gusb,\\t Kl,\\t Ugt2b5,\\t Ugt1a2,\\t Ugt1a6a,\\t U...  \n",
       "mmu00051  Mpi,\\t Pmm2,\\t Pmm1,\\t Gmppb,\\t Gmppa,\\t Gmds,...  "
      ]
     },
     "execution_count": 11,
     "metadata": {},
     "output_type": "execute_result"
    }
   ],
   "source": [
    "mouse_pathway_kegg_genes.head()"
   ]
  },
  {
   "cell_type": "markdown",
   "metadata": {},
   "source": [
    "### Subtask 1.2: Save the KEGG gene sets as a gmt file after you made sure they have the proper gene ids with respect to your DE analysis"
   ]
  },
  {
   "cell_type": "markdown",
   "metadata": {},
   "source": [
    "hints: \n",
    "\n",
    "http://biopython.org/wiki/Annotate_Entrez_Gene_IDs\n",
    "\n",
    "http://www.broadinstitute.org/cancer/software/gsea/wiki/index.php/Data_formats"
   ]
  },
  {
   "cell_type": "code",
   "execution_count": 12,
   "metadata": {
    "collapsed": false,
    "scrolled": true
   },
   "outputs": [],
   "source": [
    "mouse_pathway_kegg_genes.to_csv(\"DayY_InOutput/mouse_pathway.gmt\")"
   ]
  },
  {
   "cell_type": "markdown",
   "metadata": {},
   "source": [
    "## Task 2: Gene Set Enrichment"
   ]
  },
  {
   "cell_type": "markdown",
   "metadata": {},
   "source": [
    "### Subtask 2.1: Read in the csv file you produced during the Differential Expression module, extract a gene list (as a python list of gene symbols) from your favorite multiple correction column (and store it in a variable)"
   ]
  },
  {
   "cell_type": "code",
   "execution_count": 13,
   "metadata": {
    "collapsed": false
   },
   "outputs": [],
   "source": [
    "DE = pd.read_csv(\"Day4_InOutput/multiple_comparison_fc.csv\",sep=\"\\t\",index_col=0)"
   ]
  },
  {
   "cell_type": "code",
   "execution_count": 14,
   "metadata": {
    "collapsed": false
   },
   "outputs": [],
   "source": [
    "diff_reg_genes = DE[\"simes-hochberg\"]"
   ]
  },
  {
   "cell_type": "markdown",
   "metadata": {},
   "source": [
    "### Subtask 2.2: Perform gene set enrichment (Fisher's exact test or an hypergeometric test will do for our purposes) with the KEGG gene sets you extracted in Task 1 (you may want to store the results in a pandas dataframe and write them to csv)"
   ]
  },
  {
   "cell_type": "markdown",
   "metadata": {},
   "source": [
    "hint:\n",
    "\n",
    "https://genetrail2.bioinf.uni-sb.de/help?topic=set_level_statistics"
   ]
  },
  {
   "cell_type": "code",
   "execution_count": 15,
   "metadata": {
    "collapsed": false
   },
   "outputs": [],
   "source": [
    "def hypergeom_test(ct):\n",
    "    \"\"\"\n",
    "        Hypergeometric test for given crosstable ct.\n",
    "        Returns p-value\n",
    "    \"\"\"\n",
    "    k = ct.Pathway.DE\n",
    "    l = ct.Pathway.All\n",
    "    m = ct.All.All\n",
    "    n = ct.All.DE\n",
    "    kp = (n*l)/m\n",
    "    if kp >= k:\n",
    "        p = hypergeom.cdf(k,m,l,n)\n",
    "    else:\n",
    "        p = hypergeom.sf(k-1,m,l,n)\n",
    "    return p"
   ]
  },
  {
   "cell_type": "code",
   "execution_count": 16,
   "metadata": {
    "collapsed": false
   },
   "outputs": [],
   "source": [
    "def apply_hypergeom_test():\n",
    "    \"\"\"\n",
    "        Applies the hypergeometric test scipy.stats.hypergeom \n",
    "        to all pathways in the dataframe \"mouse_pathway_kegg_genes\" \n",
    "        and the diff_reg_genes as defined before. \n",
    "        Return: Data Frame with p values (uncorrected) for each pathway.\n",
    "    \"\"\"\n",
    "    # extract set of genes from pathway gene list\n",
    "    pathway_gene_set = set()\n",
    "    for x in mouse_pathway_kegg_genes.Genes:\n",
    "        for y in x.split(\",\\t\"):\n",
    "            pathway_gene_set.add(y.strip());\n",
    "    # set of genes that are represented in pathway_genes and diff_reg_genes\n",
    "    gene_set = list(set(diff_reg_genes.index).intersection(pathway_gene_set))\n",
    "\n",
    "    #prepare data frame\n",
    "    crossdf = pd.DataFrame([gene_set,[False]*len(gene_set),[False]*len(gene_set)]).T\n",
    "    crossdf.columns=[\"ID\",\"DE\",\"Pathway\"]\n",
    "    crossdf.set_index(\"ID\",inplace=True)\n",
    "    \n",
    "    # apply hypergeom to all pathways\n",
    "    pvals = {}\n",
    "    for pathway in mouse_pathway_kegg_genes.index:\n",
    "        crossdf.DE.loc[set([str(c) for c in diff_reg_genes.loc[diff_reg_genes.values<0.05].\n",
    "                            index.values]).intersection(gene_set)] = True\n",
    "        crossdf.Pathway.loc[\n",
    "            set([str(x.strip()) for x in mouse_pathway_kegg_genes.Genes[pathway].split(\",\\t\")]).intersection(gene_set)\n",
    "                ] = True\n",
    "        # calculate crosstable\n",
    "        crosstable = pd.crosstab(crossdf.DE.replace([False,True],[\"Not DE\",\"DE\"]),\n",
    "                    crossdf.Pathway.replace([False,True],[\"Not Pathway\",\"Pathway\"]),margins=True)\n",
    "        pvals[pathway] = hypergeom_test(crosstable)\n",
    "    # convert to pd.DataFrame\n",
    "    pvals = pd.DataFrame.from_dict(pvals,orient=\"index\")\n",
    "    pvals.columns=([\"P-Value_hypergeom\"])\n",
    "    return pvals"
   ]
  },
  {
   "cell_type": "markdown",
   "metadata": {},
   "source": [
    "### Subtask 2.3: Extract a list of significantly (at 0.05 significance) enriched KEGG pathways"
   ]
  },
  {
   "cell_type": "code",
   "execution_count": 17,
   "metadata": {
    "collapsed": false
   },
   "outputs": [],
   "source": [
    "pvals_hg = apply_hypergeom_test()"
   ]
  },
  {
   "cell_type": "code",
   "execution_count": 18,
   "metadata": {
    "collapsed": false,
    "scrolled": true
   },
   "outputs": [
    {
     "data": {
      "text/html": [
       "<div>\n",
       "<table border=\"1\" class=\"dataframe\">\n",
       "  <thead>\n",
       "    <tr style=\"text-align: right;\">\n",
       "      <th></th>\n",
       "      <th>P-Value_hypergeom</th>\n",
       "    </tr>\n",
       "  </thead>\n",
       "  <tbody>\n",
       "    <tr>\n",
       "      <th>mmu04622</th>\n",
       "      <td>1.609165e-10</td>\n",
       "    </tr>\n",
       "    <tr>\n",
       "      <th>mmu04022</th>\n",
       "      <td>4.699378e-07</td>\n",
       "    </tr>\n",
       "    <tr>\n",
       "      <th>mmu04350</th>\n",
       "      <td>9.623347e-11</td>\n",
       "    </tr>\n",
       "    <tr>\n",
       "      <th>mmu03022</th>\n",
       "      <td>4.107536e-07</td>\n",
       "    </tr>\n",
       "    <tr>\n",
       "      <th>mmu03020</th>\n",
       "      <td>6.698924e-07</td>\n",
       "    </tr>\n",
       "    <tr>\n",
       "      <th>mmu04140</th>\n",
       "      <td>9.507226e-08</td>\n",
       "    </tr>\n",
       "    <tr>\n",
       "      <th>mmu04215</th>\n",
       "      <td>4.902552e-11</td>\n",
       "    </tr>\n",
       "    <tr>\n",
       "      <th>mmu04640</th>\n",
       "      <td>1.938185e-11</td>\n",
       "    </tr>\n",
       "    <tr>\n",
       "      <th>mmu04370</th>\n",
       "      <td>3.730112e-09</td>\n",
       "    </tr>\n",
       "    <tr>\n",
       "      <th>mmu04392</th>\n",
       "      <td>9.059903e-09</td>\n",
       "    </tr>\n",
       "    <tr>\n",
       "      <th>mmu04080</th>\n",
       "      <td>1.047639e-05</td>\n",
       "    </tr>\n",
       "    <tr>\n",
       "      <th>mmu04270</th>\n",
       "      <td>8.226083e-11</td>\n",
       "    </tr>\n",
       "    <tr>\n",
       "      <th>mmu03410</th>\n",
       "      <td>7.588489e-09</td>\n",
       "    </tr>\n",
       "    <tr>\n",
       "      <th>mmu04310</th>\n",
       "      <td>2.346012e-10</td>\n",
       "    </tr>\n",
       "    <tr>\n",
       "      <th>mmu04146</th>\n",
       "      <td>8.040990e-11</td>\n",
       "    </tr>\n",
       "    <tr>\n",
       "      <th>mmu03030</th>\n",
       "      <td>2.896127e-07</td>\n",
       "    </tr>\n",
       "    <tr>\n",
       "      <th>mmu04666</th>\n",
       "      <td>4.693269e-11</td>\n",
       "    </tr>\n",
       "    <tr>\n",
       "      <th>mmu04670</th>\n",
       "      <td>3.656772e-11</td>\n",
       "    </tr>\n",
       "    <tr>\n",
       "      <th>mmu04340</th>\n",
       "      <td>2.517724e-10</td>\n",
       "    </tr>\n",
       "    <tr>\n",
       "      <th>mmu04071</th>\n",
       "      <td>8.496056e-07</td>\n",
       "    </tr>\n",
       "    <tr>\n",
       "      <th>mmu03420</th>\n",
       "      <td>8.056320e-09</td>\n",
       "    </tr>\n",
       "    <tr>\n",
       "      <th>mmu03440</th>\n",
       "      <td>1.011698e-08</td>\n",
       "    </tr>\n",
       "    <tr>\n",
       "      <th>mmu04512</th>\n",
       "      <td>2.238660e-09</td>\n",
       "    </tr>\n",
       "    <tr>\n",
       "      <th>mmu04510</th>\n",
       "      <td>5.624654e-09</td>\n",
       "    </tr>\n",
       "    <tr>\n",
       "      <th>mmu04514</th>\n",
       "      <td>4.201935e-08</td>\n",
       "    </tr>\n",
       "    <tr>\n",
       "      <th>mmu04727</th>\n",
       "      <td>1.265764e-11</td>\n",
       "    </tr>\n",
       "    <tr>\n",
       "      <th>mmu03040</th>\n",
       "      <td>1.255343e-08</td>\n",
       "    </tr>\n",
       "    <tr>\n",
       "      <th>mmu04660</th>\n",
       "      <td>2.509060e-11</td>\n",
       "    </tr>\n",
       "    <tr>\n",
       "      <th>mmu04260</th>\n",
       "      <td>9.694739e-11</td>\n",
       "    </tr>\n",
       "    <tr>\n",
       "      <th>mmu04072</th>\n",
       "      <td>9.599174e-07</td>\n",
       "    </tr>\n",
       "    <tr>\n",
       "      <th>...</th>\n",
       "      <td>...</td>\n",
       "    </tr>\n",
       "    <tr>\n",
       "      <th>mmu04672</th>\n",
       "      <td>3.150787e-11</td>\n",
       "    </tr>\n",
       "    <tr>\n",
       "      <th>mmu04066</th>\n",
       "      <td>2.960023e-06</td>\n",
       "    </tr>\n",
       "    <tr>\n",
       "      <th>mmu04390</th>\n",
       "      <td>1.148770e-08</td>\n",
       "    </tr>\n",
       "    <tr>\n",
       "      <th>mmu04110</th>\n",
       "      <td>2.249782e-06</td>\n",
       "    </tr>\n",
       "    <tr>\n",
       "      <th>mmu04668</th>\n",
       "      <td>5.696965e-11</td>\n",
       "    </tr>\n",
       "    <tr>\n",
       "      <th>mmu04621</th>\n",
       "      <td>1.758024e-10</td>\n",
       "    </tr>\n",
       "    <tr>\n",
       "      <th>mmu04620</th>\n",
       "      <td>2.532704e-10</td>\n",
       "    </tr>\n",
       "    <tr>\n",
       "      <th>mmu04623</th>\n",
       "      <td>1.593938e-10</td>\n",
       "    </tr>\n",
       "    <tr>\n",
       "      <th>mmu04024</th>\n",
       "      <td>1.352914e-06</td>\n",
       "    </tr>\n",
       "    <tr>\n",
       "      <th>mmu04020</th>\n",
       "      <td>7.120041e-07</td>\n",
       "    </tr>\n",
       "    <tr>\n",
       "      <th>mmu04130</th>\n",
       "      <td>1.392907e-07</td>\n",
       "    </tr>\n",
       "    <tr>\n",
       "      <th>mmu04141</th>\n",
       "      <td>9.423455e-09</td>\n",
       "    </tr>\n",
       "    <tr>\n",
       "      <th>mmu04142</th>\n",
       "      <td>9.095108e-10</td>\n",
       "    </tr>\n",
       "    <tr>\n",
       "      <th>mmu04144</th>\n",
       "      <td>5.631929e-10</td>\n",
       "    </tr>\n",
       "    <tr>\n",
       "      <th>mmu04145</th>\n",
       "      <td>1.855171e-10</td>\n",
       "    </tr>\n",
       "    <tr>\n",
       "      <th>mmu04614</th>\n",
       "      <td>1.947941e-10</td>\n",
       "    </tr>\n",
       "    <tr>\n",
       "      <th>mmu04664</th>\n",
       "      <td>4.104244e-11</td>\n",
       "    </tr>\n",
       "    <tr>\n",
       "      <th>mmu03013</th>\n",
       "      <td>8.092884e-07</td>\n",
       "    </tr>\n",
       "    <tr>\n",
       "      <th>mmu03015</th>\n",
       "      <td>2.043091e-06</td>\n",
       "    </tr>\n",
       "    <tr>\n",
       "      <th>mmu04012</th>\n",
       "      <td>1.668176e-06</td>\n",
       "    </tr>\n",
       "    <tr>\n",
       "      <th>mmu04010</th>\n",
       "      <td>5.907171e-07</td>\n",
       "    </tr>\n",
       "    <tr>\n",
       "      <th>mmu04015</th>\n",
       "      <td>6.150792e-07</td>\n",
       "    </tr>\n",
       "    <tr>\n",
       "      <th>mmu04662</th>\n",
       "      <td>4.418180e-11</td>\n",
       "    </tr>\n",
       "    <tr>\n",
       "      <th>mmu04650</th>\n",
       "      <td>2.911395e-11</td>\n",
       "    </tr>\n",
       "    <tr>\n",
       "      <th>mmu04152</th>\n",
       "      <td>1.391474e-11</td>\n",
       "    </tr>\n",
       "    <tr>\n",
       "      <th>mmu04151</th>\n",
       "      <td>3.304080e-11</td>\n",
       "    </tr>\n",
       "    <tr>\n",
       "      <th>mmu04150</th>\n",
       "      <td>3.597641e-11</td>\n",
       "    </tr>\n",
       "    <tr>\n",
       "      <th>mmu04360</th>\n",
       "      <td>2.574496e-09</td>\n",
       "    </tr>\n",
       "    <tr>\n",
       "      <th>mmu04710</th>\n",
       "      <td>2.087768e-10</td>\n",
       "    </tr>\n",
       "    <tr>\n",
       "      <th>mmu04713</th>\n",
       "      <td>2.213967e-10</td>\n",
       "    </tr>\n",
       "  </tbody>\n",
       "</table>\n",
       "<p>101 rows × 1 columns</p>\n",
       "</div>"
      ],
      "text/plain": [
       "          P-Value_hypergeom\n",
       "mmu04622       1.609165e-10\n",
       "mmu04022       4.699378e-07\n",
       "mmu04350       9.623347e-11\n",
       "mmu03022       4.107536e-07\n",
       "mmu03020       6.698924e-07\n",
       "mmu04140       9.507226e-08\n",
       "mmu04215       4.902552e-11\n",
       "mmu04640       1.938185e-11\n",
       "mmu04370       3.730112e-09\n",
       "mmu04392       9.059903e-09\n",
       "mmu04080       1.047639e-05\n",
       "mmu04270       8.226083e-11\n",
       "mmu03410       7.588489e-09\n",
       "mmu04310       2.346012e-10\n",
       "mmu04146       8.040990e-11\n",
       "mmu03030       2.896127e-07\n",
       "mmu04666       4.693269e-11\n",
       "mmu04670       3.656772e-11\n",
       "mmu04340       2.517724e-10\n",
       "mmu04071       8.496056e-07\n",
       "mmu03420       8.056320e-09\n",
       "mmu03440       1.011698e-08\n",
       "mmu04512       2.238660e-09\n",
       "mmu04510       5.624654e-09\n",
       "mmu04514       4.201935e-08\n",
       "mmu04727       1.265764e-11\n",
       "mmu03040       1.255343e-08\n",
       "mmu04660       2.509060e-11\n",
       "mmu04260       9.694739e-11\n",
       "mmu04072       9.599174e-07\n",
       "...                     ...\n",
       "mmu04672       3.150787e-11\n",
       "mmu04066       2.960023e-06\n",
       "mmu04390       1.148770e-08\n",
       "mmu04110       2.249782e-06\n",
       "mmu04668       5.696965e-11\n",
       "mmu04621       1.758024e-10\n",
       "mmu04620       2.532704e-10\n",
       "mmu04623       1.593938e-10\n",
       "mmu04024       1.352914e-06\n",
       "mmu04020       7.120041e-07\n",
       "mmu04130       1.392907e-07\n",
       "mmu04141       9.423455e-09\n",
       "mmu04142       9.095108e-10\n",
       "mmu04144       5.631929e-10\n",
       "mmu04145       1.855171e-10\n",
       "mmu04614       1.947941e-10\n",
       "mmu04664       4.104244e-11\n",
       "mmu03013       8.092884e-07\n",
       "mmu03015       2.043091e-06\n",
       "mmu04012       1.668176e-06\n",
       "mmu04010       5.907171e-07\n",
       "mmu04015       6.150792e-07\n",
       "mmu04662       4.418180e-11\n",
       "mmu04650       2.911395e-11\n",
       "mmu04152       1.391474e-11\n",
       "mmu04151       3.304080e-11\n",
       "mmu04150       3.597641e-11\n",
       "mmu04360       2.574496e-09\n",
       "mmu04710       2.087768e-10\n",
       "mmu04713       2.213967e-10\n",
       "\n",
       "[101 rows x 1 columns]"
      ]
     },
     "execution_count": 18,
     "metadata": {},
     "output_type": "execute_result"
    }
   ],
   "source": [
    "enriched_kegg_pathways = pvals_hg[pvals_hg[\"P-Value_hypergeom\"]<0.01/len(pvals_hg)]\n",
    "enriched_kegg_pathways"
   ]
  },
  {
   "cell_type": "markdown",
   "metadata": {},
   "source": [
    "## Task 3: KEGG map visualization"
   ]
  },
  {
   "cell_type": "markdown",
   "metadata": {},
   "source": [
    "#### hint:\n",
    "\n",
    "http://nbviewer.jupyter.org/github/widdowquinn/notebooks/blob/master/Biopython_KGML_intro.ipynb\n",
    "\n",
    "#### remark:\n",
    "\n",
    "In real life you may want to use the R-based tool pathview: https://bioconductor.org/packages/release/bioc/html/pathview.html (if you insist you can also try to use r2py for using pathview from Python during the practical)\n",
    "\n",
    "For Python (in addition to the Biopyhton module) https://github.com/idekerlab/py2cytoscape in combination with https://github.com/idekerlab/KEGGscape may be another alternative (in the future)\n",
    "\n",
    "Generally speaking, it is always a good idea to pay attention also to other pathway databases like Reactome or WikiPathways ..."
   ]
  },
  {
   "cell_type": "markdown",
   "metadata": {},
   "source": [
    "### Subtask 3.1: Pick some significantly enriched KEGG pathways of your choice from 2.3 and visualize them"
   ]
  },
  {
   "cell_type": "code",
   "execution_count": 19,
   "metadata": {
    "collapsed": true
   },
   "outputs": [],
   "source": [
    "def get_gene_name(gene_ids):\n",
    "    \"\"\"\n",
    "        Return gene name from given gene id.\n",
    "    \"\"\"\n",
    "    gene_ids = gene_ids.split(\" \")\n",
    "    names = []\n",
    "    for id in gene_ids:\n",
    "        try:\n",
    "            gene_name = (kegg_get(id).read())\n",
    "        except:\n",
    "            gene_name = \"unknown\"\n",
    "        [names.append(re.split(r'\\s{1,}',line)[1].replace(\",\",\"\"))\n",
    "                 for line in gene_name.split(\"\\n\") if line.startswith(\"NAME\")]\n",
    "    return names"
   ]
  },
  {
   "cell_type": "code",
   "execution_count": 20,
   "metadata": {
    "collapsed": false
   },
   "outputs": [],
   "source": [
    "def draw_kegg_map(map_id, sig_col=None,unsig_col=None,color_list=None,color_dict=None,):\n",
    "    \"\"\" \n",
    "        Render a local PDF of a KEGG map with the passed map ID\n",
    "        and color pathways with differentially expressed genes if \n",
    "        sig_col and unsig_col are set. \n",
    "    \"\"\"\n",
    "    if unsig_col != None:\n",
    "        for element in pathway.genes:\n",
    "            if sig_col != None:\n",
    "                for name in get_gene_name(element.name):\n",
    "                    if name in diff_reg_genes.index:\n",
    "                        for graphic in element.graphics:\n",
    "                            graphic.bgcolor = sig_col\n",
    "                    else:                \n",
    "                        for graphic in element.graphics:\n",
    "                            graphic.bgcolor = unsig_col\n",
    "                break;\n",
    "                \n",
    "    canvas = KGMLCanvas(pathway, import_imagemap=True)\n",
    "    img_filename = \"DayY_InOutput/%s.pdf\" % map_id\n",
    "    canvas.draw(img_filename)\n",
    "    return PDF(img_filename)"
   ]
  },
  {
   "cell_type": "code",
   "execution_count": 21,
   "metadata": {
    "collapsed": false
   },
   "outputs": [
    {
     "ename": "AttributeError",
     "evalue": "'str' object has no attribute 'image'",
     "output_type": "error",
     "traceback": [
      "\u001b[1;31m---------------------------------------------------------------------------\u001b[0m",
      "\u001b[1;31mAttributeError\u001b[0m                            Traceback (most recent call last)",
      "\u001b[1;32m<ipython-input-21-84f0edcb2470>\u001b[0m in \u001b[0;36m<module>\u001b[1;34m()\u001b[0m\n\u001b[1;32m----> 1\u001b[1;33m \u001b[0mdraw_kegg_map\u001b[0m\u001b[1;33m(\u001b[0m\u001b[1;34m\"mmu04152\"\u001b[0m\u001b[1;33m)\u001b[0m\u001b[1;33m\u001b[0m\u001b[0m\n\u001b[0m",
      "\u001b[1;32m<ipython-input-20-7ef57fb8d204>\u001b[0m in \u001b[0;36mdraw_kegg_map\u001b[1;34m(map_id, sig_col, unsig_col, color_list, color_dict)\u001b[0m\n\u001b[0;32m     19\u001b[0m     \u001b[0mcanvas\u001b[0m \u001b[1;33m=\u001b[0m \u001b[0mKGMLCanvas\u001b[0m\u001b[1;33m(\u001b[0m\u001b[0mpathway\u001b[0m\u001b[1;33m,\u001b[0m \u001b[0mimport_imagemap\u001b[0m\u001b[1;33m=\u001b[0m\u001b[0mTrue\u001b[0m\u001b[1;33m)\u001b[0m\u001b[1;33m\u001b[0m\u001b[0m\n\u001b[0;32m     20\u001b[0m     \u001b[0mimg_filename\u001b[0m \u001b[1;33m=\u001b[0m \u001b[1;34m\"DayY_InOutput/%s.pdf\"\u001b[0m \u001b[1;33m%\u001b[0m \u001b[0mmap_id\u001b[0m\u001b[1;33m\u001b[0m\u001b[0m\n\u001b[1;32m---> 21\u001b[1;33m     \u001b[0mcanvas\u001b[0m\u001b[1;33m.\u001b[0m\u001b[0mdraw\u001b[0m\u001b[1;33m(\u001b[0m\u001b[0mimg_filename\u001b[0m\u001b[1;33m)\u001b[0m\u001b[1;33m\u001b[0m\u001b[0m\n\u001b[0m\u001b[0;32m     22\u001b[0m     \u001b[1;32mreturn\u001b[0m \u001b[0mPDF\u001b[0m\u001b[1;33m(\u001b[0m\u001b[0mimg_filename\u001b[0m\u001b[1;33m)\u001b[0m\u001b[1;33m\u001b[0m\u001b[0m\n",
      "\u001b[1;32m/share/opt/x86_64_sl7/anaconda2/lib/python2.7/site-packages/Bio/Graphics/KGML_vis.pyc\u001b[0m in \u001b[0;36mdraw\u001b[1;34m(self, filename)\u001b[0m\n\u001b[0;32m    115\u001b[0m             \u001b[1;31m# We're drawing directly on the image, so we set the canvas to the\u001b[0m\u001b[1;33m\u001b[0m\u001b[1;33m\u001b[0m\u001b[0m\n\u001b[0;32m    116\u001b[0m             \u001b[1;31m# same size as the image\u001b[0m\u001b[1;33m\u001b[0m\u001b[1;33m\u001b[0m\u001b[0m\n\u001b[1;32m--> 117\u001b[1;33m             \u001b[1;32mif\u001b[0m \u001b[0mos\u001b[0m\u001b[1;33m.\u001b[0m\u001b[0mpath\u001b[0m\u001b[1;33m.\u001b[0m\u001b[0misfile\u001b[0m\u001b[1;33m(\u001b[0m\u001b[0mself\u001b[0m\u001b[1;33m.\u001b[0m\u001b[0mpathway\u001b[0m\u001b[1;33m.\u001b[0m\u001b[0mimage\u001b[0m\u001b[1;33m)\u001b[0m\u001b[1;33m:\u001b[0m\u001b[1;33m\u001b[0m\u001b[0m\n\u001b[0m\u001b[0;32m    118\u001b[0m                 \u001b[0mimfilename\u001b[0m \u001b[1;33m=\u001b[0m \u001b[0mself\u001b[0m\u001b[1;33m.\u001b[0m\u001b[0mpathway\u001b[0m\u001b[1;33m.\u001b[0m\u001b[0mimage\u001b[0m\u001b[1;33m\u001b[0m\u001b[0m\n\u001b[0;32m    119\u001b[0m             \u001b[1;32melse\u001b[0m\u001b[1;33m:\u001b[0m\u001b[1;33m\u001b[0m\u001b[0m\n",
      "\u001b[1;31mAttributeError\u001b[0m: 'str' object has no attribute 'image'"
     ]
    }
   ],
   "source": [
    "draw_kegg_map(\"mmu04152\")\n"
   ]
  },
  {
   "cell_type": "code",
   "execution_count": null,
   "metadata": {
    "collapsed": true
   },
   "outputs": [],
   "source": [
    "draw_kegg_map(\"mmu04723\")"
   ]
  },
  {
   "cell_type": "code",
   "execution_count": null,
   "metadata": {
    "collapsed": false,
    "scrolled": true
   },
   "outputs": [],
   "source": [
    "draw_kegg_map(\"mmu04151\")"
   ]
  },
  {
   "cell_type": "markdown",
   "metadata": {},
   "source": [
    "### Subtask 3.2: Define a a suitable binary color scheme respresenting the fact whether a gene is significantly expressed or not"
   ]
  },
  {
   "cell_type": "markdown",
   "metadata": {},
   "source": [
    "hint: \n",
    "\n",
    "http://www.rapidtables.com/web/color/RGB_Color.htm"
   ]
  },
  {
   "cell_type": "code",
   "execution_count": null,
   "metadata": {
    "collapsed": true
   },
   "outputs": [],
   "source": [
    "# Dark blue for significant genes\n",
    "col_sig = '#0000FF'\n",
    "# light red for unsignificant genes\n",
    "col_unsig = '#FF99CC'"
   ]
  },
  {
   "cell_type": "markdown",
   "metadata": {},
   "source": [
    "### Subtask 3.3: Visualize the pathway(s) from 3.1 in such a way that the included genes have the corresponding color from 3.2 ( you may need to define a suitable mapping from single genes to what is actually shown in the pathway map...)"
   ]
  },
  {
   "cell_type": "code",
   "execution_count": null,
   "metadata": {
    "collapsed": false
   },
   "outputs": [],
   "source": [
    "draw_kegg_map(\"mmu04152\",col_sig,col_unsig)"
   ]
  },
  {
   "cell_type": "code",
   "execution_count": null,
   "metadata": {
    "collapsed": false
   },
   "outputs": [],
   "source": [
    "draw_kegg_map(\"mmu04723\",col_sig,col_unsig)"
   ]
  },
  {
   "cell_type": "markdown",
   "metadata": {},
   "source": [
    "### Subtask 3.4: Define a suitable continuous color range representing the log2 fold changes of the all the genes in your data"
   ]
  },
  {
   "cell_type": "markdown",
   "metadata": {},
   "source": [
    "hint:\n",
    "\n",
    "http://bsou.io/posts/color-gradients-with-python"
   ]
  },
  {
   "cell_type": "code",
   "execution_count": null,
   "metadata": {
    "collapsed": true
   },
   "outputs": [],
   "source": [
    "def hex_to_RGB(hex):\n",
    "  ''' \"#FFFFFF\" -> [255,255,255] '''\n",
    "  # Pass 16 to the integer function for change of base\n",
    "  return [int(hex[i:i+2], 16) for i in range(1,6,2)]\n",
    "def RGB_to_hex(RGB):\n",
    "  ''' [255,255,255] -> \"#FFFFFF\" '''\n",
    "  # Components need to be integers for hex to make sense\n",
    "  RGB = [int(x) for x in RGB]\n",
    "  return \"#\"+\"\".join([\"0{0:x}\".format(v) if v < 16 else\n",
    "            \"{0:x}\".format(v) for v in RGB])\n",
    "\n",
    "def color_dict(gradient):\n",
    "  ''' Takes in a list of RGB sub-lists and returns dictionary of\n",
    "    colors in RGB and hex form for use in a graphing function\n",
    "    defined later on '''\n",
    "  return {\"hex\":[RGB_to_hex(RGB) for RGB in gradient],\n",
    "      \"r\":[RGB[0] for RGB in gradient],\n",
    "      \"g\":[RGB[1] for RGB in gradient],\n",
    "      \"b\":[RGB[2] for RGB in gradient]}\n",
    "\n",
    "def linear_gradient(start_hex, finish_hex=\"#FFFFFF\", n=10):\n",
    "  ''' returns a gradient list of (n) colors between\n",
    "    two hex colors. start_hex and finish_hex\n",
    "    should be the full six-digit color string,\n",
    "    inlcuding the number sign (\"#FFFFFF\") '''\n",
    "  # Starting and ending colors in RGB form\n",
    "  s = hex_to_RGB(start_hex)\n",
    "  f = hex_to_RGB(finish_hex)\n",
    "  # Initilize a list of the output colors with the starting color\n",
    "  RGB_list = [s]\n",
    "  # Calcuate a color at each evenly spaced value of t from 1 to n\n",
    "  for t in range(1, n):\n",
    "    # Interpolate RGB vector for color at the current value of t\n",
    "    curr_vector = [\n",
    "      int(s[j] + (float(t)/(n-1))*(f[j]-s[j]))\n",
    "      for j in range(3)\n",
    "    ]\n",
    "    # Add it to our list of output colors\n",
    "    RGB_list.append(curr_vector)\n",
    "\n",
    "  return color_dict(RGB_list)\n",
    "\n",
    "def polylinear_gradient(colors, n):\n",
    "  ''' returns a list of colors forming linear gradients between\n",
    "      all sequential pairs of colors. \"n\" specifies the total\n",
    "      number of desired output colors '''\n",
    "  # The number of colors per individual linear gradient\n",
    "  n_out = int(float(n) / (len(colors) - 1))\n",
    "  # returns dictionary defined by color_dict()\n",
    "  gradient_dict = linear_gradient(colors[0], colors[1], n_out)\n",
    "\n",
    "  if len(colors) > 1:\n",
    "    for col in range(1, len(colors) - 1):\n",
    "      next = linear_gradient(colors[col], colors[col+1], n_out)\n",
    "      for k in (\"hex\", \"r\", \"g\", \"b\"):\n",
    "        # Exclude first point to avoid duplicates\n",
    "        gradient_dict[k] += next[k][1:]\n",
    "\n",
    "  return gradient_dict"
   ]
  },
  {
   "cell_type": "code",
   "execution_count": null,
   "metadata": {
    "collapsed": false
   },
   "outputs": [],
   "source": [
    "# Define color gradient\n",
    "color_gradient = polylinear_gradient(['#0000FF','#000000', '#FF0000'], 11)[\"hex\"]"
   ]
  },
  {
   "cell_type": "code",
   "execution_count": null,
   "metadata": {
    "collapsed": false
   },
   "outputs": [],
   "source": [
    "bins = pd.cut(DE[\"log2FC\"],10,labels=False)"
   ]
  },
  {
   "cell_type": "code",
   "execution_count": null,
   "metadata": {
    "collapsed": true
   },
   "outputs": [],
   "source": []
  },
  {
   "cell_type": "markdown",
   "metadata": {},
   "source": [
    "### Subtask 3.5: Visualize the pathway(s) from 3.1 in such a way that the included genes have the corresponding color from 3.4"
   ]
  },
  {
   "cell_type": "code",
   "execution_count": null,
   "metadata": {
    "collapsed": false
   },
   "outputs": [],
   "source": [
    "def draw_kegg_map_gradient(map_id,color_list, color_dict):\n",
    "    \"\"\" \n",
    "        Render a local PDF of a KEGG map with the passed map ID.\n",
    "        The pathways are colored according to the log2FC of the first contained gene\n",
    "        as color gradient. \n",
    "    \"\"\"\n",
    "    # Get KGML file from KEGG\n",
    "    pathway = KGML_parser.read(kegg_get(map_id, \"kgml\"))\n",
    "    # Iterate over elements and color them\n",
    "    for element in pathway.genes:\n",
    "        for name in get_gene_name(element.name):\n",
    "            if name in diff_reg_genes.index:\n",
    "                for graphic in element.graphics: # only one element in element.graphics\n",
    "                    try:\n",
    "                        graphic.bgcolor = color_list[color_dict[name]]\n",
    "                    except:\n",
    "                        continue\n",
    "                break # break after first hit\n",
    "            else:\n",
    "                print 0\n",
    "    canvas = KGMLCanvas(pathway, import_imagemap=True)\n",
    "    img_filename = \"DayY_InOutput/%s_grad.pdf\" % map_id\n",
    "    canvas.draw(img_filename)\n",
    "    return PDF(img_filename)"
   ]
  },
  {
   "cell_type": "code",
   "execution_count": null,
   "metadata": {
    "collapsed": false
   },
   "outputs": [],
   "source": [
    "draw_kegg_map_gradient(\"mmu04640\",color_gradient,bins)"
   ]
  },
  {
   "cell_type": "code",
   "execution_count": null,
   "metadata": {
    "collapsed": false
   },
   "outputs": [],
   "source": []
  },
  {
   "cell_type": "code",
   "execution_count": null,
   "metadata": {
    "collapsed": false
   },
   "outputs": [],
   "source": []
  },
  {
   "cell_type": "code",
   "execution_count": null,
   "metadata": {
    "collapsed": true
   },
   "outputs": [],
   "source": []
  },
  {
   "cell_type": "code",
   "execution_count": null,
   "metadata": {
    "collapsed": true
   },
   "outputs": [],
   "source": []
  },
  {
   "cell_type": "code",
   "execution_count": null,
   "metadata": {
    "collapsed": true
   },
   "outputs": [],
   "source": []
  },
  {
   "cell_type": "code",
   "execution_count": null,
   "metadata": {
    "collapsed": true
   },
   "outputs": [],
   "source": []
  },
  {
   "cell_type": "code",
   "execution_count": null,
   "metadata": {
    "collapsed": true
   },
   "outputs": [],
   "source": []
  }
 ],
 "metadata": {
  "anaconda-cloud": {},
  "kernelspec": {
   "display_name": "Python [Root]",
   "language": "python",
   "name": "Python [Root]"
  }
 },
 "nbformat": 4,
 "nbformat_minor": 0
}
