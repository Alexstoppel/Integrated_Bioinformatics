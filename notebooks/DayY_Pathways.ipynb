{
 "cells": [
  {
   "cell_type": "markdown",
   "metadata": {},
   "source": [
    "## Task 1: KEGG and gene id mapping"
   ]
  },
  {
   "cell_type": "markdown",
   "metadata": {},
   "source": [
    "Familiarize yourself with the KEGG Rest interface and how to access it with Biopyhton:\n",
    "\n",
    "http://www.genome.jp/kegg/rest/keggapi.html\n",
    "\n",
    "http://nbviewer.jupyter.org/github/widdowquinn/notebooks/blob/master/Biopython_KGML_intro.ipynb"
   ]
  },
  {
   "cell_type": "code",
   "execution_count": 342,
   "metadata": {
    "collapsed": false
   },
   "outputs": [],
   "source": [
    "import sys\n",
    "import os\n",
    "import numpy as np\n",
    "import matplotlib.pyplot as plt\n",
    "import matplotlib.mlab as mlab\n",
    "import pandas as pd\n",
    "import math\n",
    "import seaborn as sns\n",
    "import urllib2\n",
    "import random as rd\n",
    "import Bio\n",
    "import re\n",
    "from Bio.KEGG.REST import *\n",
    "from Bio.KEGG.KGML import KGML_parser\n",
    "from scipy.stats import hypergeom"
   ]
  },
  {
   "cell_type": "code",
   "execution_count": 2,
   "metadata": {
    "collapsed": true
   },
   "outputs": [],
   "source": [
    "% matplotlib inline"
   ]
  },
  {
   "cell_type": "code",
   "execution_count": 3,
   "metadata": {
    "collapsed": true
   },
   "outputs": [],
   "source": [
    "!mkdir -p DayY_InOutput\n"
   ]
  },
  {
   "cell_type": "markdown",
   "metadata": {},
   "source": [
    "### Subtask 1.1 Extract gene lists for all (mouse) KEGG pathways and store them in a suitable Python data structure"
   ]
  },
  {
   "cell_type": "code",
   "execution_count": 4,
   "metadata": {
    "collapsed": false
   },
   "outputs": [],
   "source": [
    "# get all mus musculus pathways from kegg\n",
    "pw = kegg_list(\"pathway\",\"mmu\").read()"
   ]
  },
  {
   "cell_type": "code",
   "execution_count": 5,
   "metadata": {
    "collapsed": false
   },
   "outputs": [],
   "source": [
    "mouse_pathway_kegg = pd.DataFrame([x.replace(\":\",\"\\t\",1).split(\"\\t\") for x in pw.split(\"\\n\")],\n",
    "                                columns=[\"Type\",\"ID\",\"Description\"])"
   ]
  },
  {
   "cell_type": "code",
   "execution_count": 6,
   "metadata": {
    "collapsed": false,
    "scrolled": true
   },
   "outputs": [],
   "source": [
    "# set index\n",
    "mouse_pathway_kegg.set_index(\"ID\",inplace=True,drop=False)"
   ]
  },
  {
   "cell_type": "code",
   "execution_count": 7,
   "metadata": {
    "collapsed": false
   },
   "outputs": [],
   "source": [
    "# extract genes from pathways\n",
    "all_genes = {}\n",
    "for pathway in mouse_pathway_kegg.ID[:-1]:\n",
    "    #print pathway\n",
    "    pw = kegg_get(pathway).read()\n",
    "    GENES = []\n",
    "    Gene = False\n",
    "    for line in pw.split(\"\\n\"):\n",
    "        if line.startswith(\"GENE\"):\n",
    "            Gene = True\n",
    "        if line.startswith(\"COMPOUND\"):\n",
    "            Gene = False\n",
    "        if Gene:\n",
    "            GENES.append(line)\n",
    "    all_genes[pathway] = ([re.split(r'\\s{1,}', g)[2].replace(\";\",\"\") \n",
    "                      for g in GENES if len(re.split(r'\\s{1,}', g))>2])"
   ]
  },
  {
   "cell_type": "code",
   "execution_count": 83,
   "metadata": {
    "collapsed": false,
    "scrolled": false
   },
   "outputs": [],
   "source": [
    "# merge genes into one data frame with pathway as ID\n",
    "all_genes_joined = {}\n",
    "for key in all_genes.keys():\n",
    "    all_genes_joined[key] = \",\\t \".join(all_genes[key])\n",
    "all_genes_df = pd.DataFrame.from_dict(all_genes_joined,orient=\"index\")\n",
    "all_genes_df.columns = [\"Genes\"]\n",
    "# sort data frame\n",
    "all_genes_df.sort_index(inplace=True)"
   ]
  },
  {
   "cell_type": "code",
   "execution_count": 84,
   "metadata": {
    "collapsed": false
   },
   "outputs": [],
   "source": [
    "# append genes to kegg pathway data frame\n",
    "mouse_pathway_kegg_genes = pd.concat([mouse_pathway_kegg,all_genes_df],axis=1,join=\"outer\")\n",
    "mouse_pathway_kegg_genes.drop(\"Type\",axis=1,inplace=True)\n",
    "mouse_pathway_kegg_genes.drop(mouse_pathway_kegg_genes.ix[0],inplace=True)"
   ]
  },
  {
   "cell_type": "code",
   "execution_count": 85,
   "metadata": {
    "collapsed": false,
    "scrolled": true
   },
   "outputs": [
    {
     "data": {
      "text/html": [
       "<div>\n",
       "<table border=\"1\" class=\"dataframe\">\n",
       "  <thead>\n",
       "    <tr style=\"text-align: right;\">\n",
       "      <th></th>\n",
       "      <th>ID</th>\n",
       "      <th>Description</th>\n",
       "      <th>Genes</th>\n",
       "    </tr>\n",
       "  </thead>\n",
       "  <tbody>\n",
       "    <tr>\n",
       "      <th>mmu00010</th>\n",
       "      <td>mmu00010</td>\n",
       "      <td>Glycolysis / Gluconeogenesis - Mus musculus (m...</td>\n",
       "      <td>Hk2,\\t Hk3,\\t Hk1,\\t Hkdc1,\\t Gck,\\t Gpi1,\\t P...</td>\n",
       "    </tr>\n",
       "    <tr>\n",
       "      <th>mmu00020</th>\n",
       "      <td>mmu00020</td>\n",
       "      <td>Citrate cycle (TCA cycle) - Mus musculus (mouse)</td>\n",
       "      <td>Cs,\\t Csl,\\t Acly,\\t Aco2,\\t Aco1,\\t Idh1,\\t I...</td>\n",
       "    </tr>\n",
       "    <tr>\n",
       "      <th>mmu00030</th>\n",
       "      <td>mmu00030</td>\n",
       "      <td>Pentose phosphate pathway - Mus musculus (mouse)</td>\n",
       "      <td>Gpi1,\\t G6pd2,\\t G6pdx,\\t Pgls,\\t H6pd,\\t Pgd,...</td>\n",
       "    </tr>\n",
       "    <tr>\n",
       "      <th>mmu00040</th>\n",
       "      <td>mmu00040</td>\n",
       "      <td>Pentose and glucuronate interconversions - Mus...</td>\n",
       "      <td>Gusb,\\t Kl,\\t Ugt2b5,\\t Ugt1a2,\\t Ugt1a6a,\\t U...</td>\n",
       "    </tr>\n",
       "    <tr>\n",
       "      <th>mmu00051</th>\n",
       "      <td>mmu00051</td>\n",
       "      <td>Fructose and mannose metabolism - Mus musculus...</td>\n",
       "      <td>Mpi,\\t Pmm2,\\t Pmm1,\\t Gmppb,\\t Gmppa,\\t Gmds,...</td>\n",
       "    </tr>\n",
       "  </tbody>\n",
       "</table>\n",
       "</div>"
      ],
      "text/plain": [
       "                ID                                        Description  \\\n",
       "mmu00010  mmu00010  Glycolysis / Gluconeogenesis - Mus musculus (m...   \n",
       "mmu00020  mmu00020   Citrate cycle (TCA cycle) - Mus musculus (mouse)   \n",
       "mmu00030  mmu00030   Pentose phosphate pathway - Mus musculus (mouse)   \n",
       "mmu00040  mmu00040  Pentose and glucuronate interconversions - Mus...   \n",
       "mmu00051  mmu00051  Fructose and mannose metabolism - Mus musculus...   \n",
       "\n",
       "                                                      Genes  \n",
       "mmu00010  Hk2,\\t Hk3,\\t Hk1,\\t Hkdc1,\\t Gck,\\t Gpi1,\\t P...  \n",
       "mmu00020  Cs,\\t Csl,\\t Acly,\\t Aco2,\\t Aco1,\\t Idh1,\\t I...  \n",
       "mmu00030  Gpi1,\\t G6pd2,\\t G6pdx,\\t Pgls,\\t H6pd,\\t Pgd,...  \n",
       "mmu00040  Gusb,\\t Kl,\\t Ugt2b5,\\t Ugt1a2,\\t Ugt1a6a,\\t U...  \n",
       "mmu00051  Mpi,\\t Pmm2,\\t Pmm1,\\t Gmppb,\\t Gmppa,\\t Gmds,...  "
      ]
     },
     "execution_count": 85,
     "metadata": {},
     "output_type": "execute_result"
    }
   ],
   "source": [
    "mouse_pathway_kegg_genes.head()"
   ]
  },
  {
   "cell_type": "markdown",
   "metadata": {},
   "source": [
    "### Subtask 1.2: Save the KEGG gene sets as a gmt file after you made sure they have the proper gene ids with respect to your DE analysis"
   ]
  },
  {
   "cell_type": "markdown",
   "metadata": {},
   "source": [
    "hints: \n",
    "\n",
    "http://biopython.org/wiki/Annotate_Entrez_Gene_IDs\n",
    "\n",
    "http://www.broadinstitute.org/cancer/software/gsea/wiki/index.php/Data_formats"
   ]
  },
  {
   "cell_type": "code",
   "execution_count": 86,
   "metadata": {
    "collapsed": false,
    "scrolled": true
   },
   "outputs": [],
   "source": [
    "mouse_pathway_kegg_genes.to_csv(\"DayY_InOutput/mouse_pathway.gmt\")"
   ]
  },
  {
   "cell_type": "markdown",
   "metadata": {},
   "source": [
    "## Task 2: Gene Set Enrichment"
   ]
  },
  {
   "cell_type": "markdown",
   "metadata": {},
   "source": [
    "### Subtask 2.1: Read in the csv file you produced during the Differential Expression module, extract a gene list (as a python list of gene symbols) from your favorite multiple correction column (and store it in a variable)"
   ]
  },
  {
   "cell_type": "code",
   "execution_count": 87,
   "metadata": {
    "collapsed": false
   },
   "outputs": [],
   "source": [
    "DE = pd.read_csv(\"Day4_InOutput/multiple_comparison_fc.csv\",sep=\"\\t\",index_col=0)"
   ]
  },
  {
   "cell_type": "code",
   "execution_count": 88,
   "metadata": {
    "collapsed": false
   },
   "outputs": [],
   "source": [
    "diff_reg_genes = DE[\"simes-hochberg\"]"
   ]
  },
  {
   "cell_type": "markdown",
   "metadata": {},
   "source": [
    "### Subtask 2.2: Perform gene set enrichment (Fisher's exact test or an hypergeometric test will do for our purposes) with the KEGG gene sets you extracted in Task 1 (you may want to store the results in a pandas dataframe and write them to csv)"
   ]
  },
  {
   "cell_type": "markdown",
   "metadata": {},
   "source": [
    "hint:\n",
    "\n",
    "https://genetrail2.bioinf.uni-sb.de/help?topic=set_level_statistics"
   ]
  },
  {
   "cell_type": "code",
   "execution_count": 384,
   "metadata": {
    "collapsed": false
   },
   "outputs": [],
   "source": [
    "def hypergeom_test(ct):\n",
    "    \"\"\"\n",
    "        Hypergeometric test for given crosstable ct.\n",
    "        Returns p-value\n",
    "    \"\"\"\n",
    "    k = ct.Pathway.DE\n",
    "    l = ct.Pathway.All\n",
    "    m = ct.All.All\n",
    "    n = ct.All.DE\n",
    "    kp = (n*l)/m\n",
    "    if kp >= k:\n",
    "        p = hypergeom.cdf(k,m,l,n)\n",
    "    else:\n",
    "        p = hypergeom.sf(k-1,m,l,n)\n",
    "    return p"
   ]
  },
  {
   "cell_type": "code",
   "execution_count": 390,
   "metadata": {
    "collapsed": false
   },
   "outputs": [],
   "source": [
    "def apply_hypergeom_test():\n",
    "    \"\"\"\n",
    "        Applies the hypergeometric test scipy.stats.hypergeom \n",
    "        to all pathways in the dataframe \"mouse_pathway_kegg_genes\" \n",
    "        and the diff_reg_genes as defined before. \n",
    "        Return: Data Frame with p values (uncorrected) for each pathway.\n",
    "    \"\"\"\n",
    "    # extract set of genes from pathway gene list\n",
    "    pathway_gene_set = set()\n",
    "    for x in mouse_pathway_kegg_genes.Genes:\n",
    "        for y in x.split(\",\\t\"):\n",
    "            pathway_gene_set.add(y.strip());\n",
    "    # set of genes that are represented in pathway_genes and diff_reg_genes\n",
    "    gene_set = list(set(diff_reg_genes.index).intersection(pathway_gene_set))\n",
    "\n",
    "    #prepare data frame\n",
    "    crossdf = pd.DataFrame([gene_set,[False]*len(gene_set),[False]*len(gene_set)]).T\n",
    "    crossdf.columns=[\"ID\",\"DE\",\"Pathway\"]\n",
    "    crossdf.set_index(\"ID\",inplace=True)\n",
    "    \n",
    "    # apply hypergeom to all pathways\n",
    "    pvals = {}\n",
    "    for pathway in mouse_pathway_kegg_genes.index:\n",
    "        crossdf.DE.loc[set([str(c) for c in diff_reg_genes.loc[diff_reg_genes.values<0.05].\n",
    "                            index.values]).intersection(gene_set)] = True\n",
    "        crossdf.Pathway.loc[\n",
    "            set([str(x.strip()) for x in mouse_pathway_kegg_genes.Genes[pathway].split(\",\\t\")]).intersection(gene_set)\n",
    "                ] = True\n",
    "        # calculate crosstable\n",
    "        crosstable = pd.crosstab(crossdf.DE.replace([False,True],[\"Not DE\",\"DE\"]),\n",
    "                    crossdf.Pathway.replace([False,True],[\"Not Pathway\",\"Pathway\"]),margins=True)\n",
    "        pvals[pathway] = hypergeom_test(crosstable)\n",
    "    # convert to pd.DataFrame\n",
    "    pvals = pd.DataFrame.from_dict(pvals,orient=\"index\")\n",
    "    pvals.columns=([\"P-Value_hypergeom\"])\n",
    "    return pvals"
   ]
  },
  {
   "cell_type": "markdown",
   "metadata": {},
   "source": [
    "### Subtask 2.3: Extract a list of significantly (at 0.05 significance) enriched KEGG pathways"
   ]
  },
  {
   "cell_type": "code",
   "execution_count": 388,
   "metadata": {
    "collapsed": false
   },
   "outputs": [],
   "source": [
    "pvals_hg = apply_hypergeom_test()"
   ]
  },
  {
   "cell_type": "code",
   "execution_count": 389,
   "metadata": {
    "collapsed": false
   },
   "outputs": [
    {
     "data": {
      "text/html": [
       "<div>\n",
       "<table border=\"1\" class=\"dataframe\">\n",
       "  <thead>\n",
       "    <tr style=\"text-align: right;\">\n",
       "      <th></th>\n",
       "      <th>P-Value_hypergeom</th>\n",
       "    </tr>\n",
       "  </thead>\n",
       "  <tbody>\n",
       "    <tr>\n",
       "      <th>mmu02010</th>\n",
       "      <td>1.529799e-04</td>\n",
       "    </tr>\n",
       "    <tr>\n",
       "      <th>mmu04622</th>\n",
       "      <td>1.609165e-10</td>\n",
       "    </tr>\n",
       "    <tr>\n",
       "      <th>mmu04022</th>\n",
       "      <td>4.699378e-07</td>\n",
       "    </tr>\n",
       "    <tr>\n",
       "      <th>mmu04350</th>\n",
       "      <td>9.623347e-11</td>\n",
       "    </tr>\n",
       "    <tr>\n",
       "      <th>mmu03022</th>\n",
       "      <td>4.107536e-07</td>\n",
       "    </tr>\n",
       "  </tbody>\n",
       "</table>\n",
       "</div>"
      ],
      "text/plain": [
       "          P-Value_hypergeom\n",
       "mmu02010       1.529799e-04\n",
       "mmu04622       1.609165e-10\n",
       "mmu04022       4.699378e-07\n",
       "mmu04350       9.623347e-11\n",
       "mmu03022       4.107536e-07"
      ]
     },
     "execution_count": 389,
     "metadata": {},
     "output_type": "execute_result"
    }
   ],
   "source": [
    "enriched_kegg_pathways = pvals_hg[pvals_hg[\"P-Value_hypergeom\"]<0.05/len(pvals_hg)]\n",
    "enriched_kegg_pathways.head()"
   ]
  },
  {
   "cell_type": "markdown",
   "metadata": {},
   "source": [
    "## Task 3: KEGG map visualization"
   ]
  },
  {
   "cell_type": "markdown",
   "metadata": {},
   "source": [
    "#### hint:\n",
    "\n",
    "http://nbviewer.jupyter.org/github/widdowquinn/notebooks/blob/master/Biopython_KGML_intro.ipynb\n",
    "\n",
    "#### remark:\n",
    "\n",
    "In real life you may want to use the R-based tool pathview: https://bioconductor.org/packages/release/bioc/html/pathview.html (if you insist you can also try to use r2py for using pathview from Python during the practical)\n",
    "\n",
    "For Python (in addition to the Biopyhton module) https://github.com/idekerlab/py2cytoscape in combination with https://github.com/idekerlab/KEGGscape may be another alternative (in the future)\n",
    "\n",
    "Generally speaking, it is always a good idea to pay attention also to other pathway databases like Reactome or WikiPathways ..."
   ]
  },
  {
   "cell_type": "markdown",
   "metadata": {},
   "source": [
    "### Subtask 3.1: Pick some significantly enriched KEGG pathways of your choice from 2.3 and visualize them"
   ]
  },
  {
   "cell_type": "code",
   "execution_count": null,
   "metadata": {
    "collapsed": false
   },
   "outputs": [],
   "source": []
  },
  {
   "cell_type": "markdown",
   "metadata": {},
   "source": [
    "### Subtask 3.2: Define a a suitable binary color scheme respresenting the fact whether a gene is significantly expressed or not"
   ]
  },
  {
   "cell_type": "markdown",
   "metadata": {},
   "source": [
    "hint: \n",
    "\n",
    "http://www.rapidtables.com/web/color/RGB_Color.htm"
   ]
  },
  {
   "cell_type": "markdown",
   "metadata": {},
   "source": [
    "### Subtask 3.3: Visualize the pathway(s) from 3.1 in such a way that the included genes have the corresponding color from 3.2 ( you may need to define a suitable mapping from single genes to what is actually shown in the pathway map...)"
   ]
  },
  {
   "cell_type": "code",
   "execution_count": null,
   "metadata": {
    "collapsed": false
   },
   "outputs": [],
   "source": []
  },
  {
   "cell_type": "markdown",
   "metadata": {},
   "source": [
    "### Subtask 3.4: Define a suitable continuous color range representing the log2 fold changes of the all the genes in your data"
   ]
  },
  {
   "cell_type": "markdown",
   "metadata": {},
   "source": [
    "hint:\n",
    "\n",
    "http://bsou.io/posts/color-gradients-with-python"
   ]
  },
  {
   "cell_type": "code",
   "execution_count": null,
   "metadata": {
    "collapsed": true
   },
   "outputs": [],
   "source": []
  },
  {
   "cell_type": "markdown",
   "metadata": {},
   "source": [
    "### Subtask 3.5: Visualize the pathway(s) from 3.1 in such a way that the included genes have the corresponding color from 3.4"
   ]
  },
  {
   "cell_type": "code",
   "execution_count": null,
   "metadata": {
    "collapsed": true
   },
   "outputs": [],
   "source": []
  },
  {
   "cell_type": "code",
   "execution_count": null,
   "metadata": {
    "collapsed": true
   },
   "outputs": [],
   "source": []
  },
  {
   "cell_type": "code",
   "execution_count": null,
   "metadata": {
    "collapsed": true
   },
   "outputs": [],
   "source": []
  },
  {
   "cell_type": "code",
   "execution_count": null,
   "metadata": {
    "collapsed": true
   },
   "outputs": [],
   "source": []
  },
  {
   "cell_type": "code",
   "execution_count": null,
   "metadata": {
    "collapsed": true
   },
   "outputs": [],
   "source": []
  },
  {
   "cell_type": "code",
   "execution_count": null,
   "metadata": {
    "collapsed": true
   },
   "outputs": [],
   "source": []
  },
  {
   "cell_type": "code",
   "execution_count": null,
   "metadata": {
    "collapsed": true
   },
   "outputs": [],
   "source": []
  },
  {
   "cell_type": "code",
   "execution_count": null,
   "metadata": {
    "collapsed": true
   },
   "outputs": [],
   "source": []
  },
  {
   "cell_type": "code",
   "execution_count": null,
   "metadata": {
    "collapsed": true
   },
   "outputs": [],
   "source": []
  }
 ],
 "metadata": {
  "anaconda-cloud": {},
  "kernelspec": {
   "display_name": "Python [Root]",
   "language": "python",
   "name": "Python [Root]"
  },
  "language_info": {
   "codemirror_mode": {
    "name": "ipython",
    "version": 2
   },
   "file_extension": ".py",
   "mimetype": "text/x-python",
   "name": "python",
   "nbconvert_exporter": "python",
   "pygments_lexer": "ipython2",
   "version": "2.7.12"
  }
 },
 "nbformat": 4,
 "nbformat_minor": 0
}
